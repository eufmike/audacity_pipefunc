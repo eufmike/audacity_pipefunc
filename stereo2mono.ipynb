{
 "cells": [
  {
   "cell_type": "code",
   "execution_count": 7,
   "metadata": {},
   "outputs": [
    {
     "name": "stdout",
     "output_type": "stream",
     "text": [
      "The autoreload extension is already loaded. To reload it, use:\n",
      "  %reload_ext autoreload\n"
     ]
    }
   ],
   "source": [
    "%load_ext autoreload\n",
    "%autoreload 2\n",
    "import os\n",
    "import re\n",
    "import json\n",
    "from pathlib import Path\n",
    "import matplotlib.pyplot as plt\n",
    "import numpy as np\n",
    "from scipy.io.wavfile import read, write\n",
    "from pipefunc.pipefunc import do_command, send_command, get_response, get_response_json"
   ]
  },
  {
   "cell_type": "code",
   "execution_count": 3,
   "metadata": {},
   "outputs": [
    {
     "name": "stdout",
     "output_type": "stream",
     "text": [
      "[WindowsPath('c:/Users/michaelshih/Documents/Podcast_tmp/EP019/raw/Aileen_Aileen.wav'), WindowsPath('c:/Users/michaelshih/Documents/Podcast_tmp/EP019/raw/Aileen_Mike.wav'), WindowsPath('c:/Users/michaelshih/Documents/Podcast_tmp/EP019/raw/Aileen_Robin.wav'), WindowsPath('c:/Users/michaelshih/Documents/Podcast_tmp/EP019/raw/Aileen_WWL.wav')]\n"
     ]
    }
   ],
   "source": [
    "p = Path(os.getcwd())\n",
    "p_raw = p.parents[0].joinpath('raw')\n",
    "p_mono = p.parents[0].joinpath('mono')\n",
    "p_mono.mkdir(exist_ok=True)\n",
    "wavfilelist = sorted(p_raw.glob('*.wav'))\n",
    "print(wavfilelist)\n",
    "op_monofilelist = [p_mono.joinpath(x.name) for x in wavfilelist]\n",
    "# print(op_monofilelist)"
   ]
  },
  {
   "cell_type": "code",
   "execution_count": 4,
   "metadata": {},
   "outputs": [
    {
     "name": "stdout",
     "output_type": "stream",
     "text": [
      "{'Aileen_Aileen.wav': {'fs': 44100, 'shape': [213447849, 2]}, 'Aileen_Mike.wav': {'fs': 44100, 'shape': [213447849, 2]}, 'Aileen_Robin.wav': {'fs': 44100, 'shape': [213447849, 2]}, 'Aileen_WWL.wav': {'fs': 44100, 'shape': [213450620, 2]}}\n",
      "[213447849, 213447849, 213447849, 213450620]\n"
     ]
    }
   ],
   "source": [
    "if p_raw.joinpath('metadata.json').is_file():\n",
    "    with open(p_raw.joinpath('metadata.json'), 'r') as f:\n",
    "        metadata_dict = json.load(f)\n",
    "else:    \n",
    "    metadata_dict = {}\n",
    "    for wavfile in wavfilelist:\n",
    "        print(wavfile)\n",
    "        fs, data = read(wavfile)\n",
    "        print(fs)\n",
    "        print(data.shape)\n",
    "        metadata_dict[wavfile.name] = {'fs': fs, \n",
    "                                        'shape': data.shape,\n",
    "                                        }\n",
    "    with open(p_raw.joinpath('metadata.json'), 'w') as f:\n",
    "        json.dump(metadata_dict, f)\n",
    "\n",
    "print(metadata_dict)\n",
    "audiolength = []\n",
    "for wavfile, value in metadata_dict.items():\n",
    "    audiolength.append(value['shape'][0])\n",
    "print(audiolength)\n",
    "maxlength = np.amax(audiolength)\n",
    "\n",
    "for wavfile, op_monofile in zip(wavfilelist, op_monofilelist):\n",
    "    if not op_monofile.is_file():\n",
    "        fs, data = read(wavfile)\n",
    "        data_tmp = np.pad(data[:, 0], (0, maxlength - data.shape[0]), 'constant')\n",
    "        write(op_monofile, fs, data[:, 0])\n"
   ]
  },
  {
   "cell_type": "code",
   "execution_count": 32,
   "metadata": {},
   "outputs": [
    {
     "name": "stdout",
     "output_type": "stream",
     "text": [
      "Send: >>> \n",
      "GetInfo: Format=\"JSON\" Type=\"Tracks\"\n",
      "[]\n"
     ]
    },
    {
     "ename": "ValueError",
     "evalue": "zero-size array to reduction operation maximum which has no identity",
     "output_type": "error",
     "traceback": [
      "\u001b[1;31m---------------------------------------------------------------------------\u001b[0m",
      "\u001b[1;31mValueError\u001b[0m                                Traceback (most recent call last)",
      "\u001b[1;32mc:\\Users\\michaelshih\\Documents\\Podcast_tmp\\EP019\\scripts\\stereo2mono.ipynb Cell 4'\u001b[0m in \u001b[0;36m<cell line: 22>\u001b[1;34m()\u001b[0m\n\u001b[0;32m     <a href='vscode-notebook-cell:/c%3A/Users/michaelshih/Documents/Podcast_tmp/EP019/scripts/stereo2mono.ipynb#ch0000003?line=19'>20</a>\u001b[0m TRACK_HEIGHT \u001b[39m=\u001b[39m \u001b[39m80\u001b[39m\n\u001b[0;32m     <a href='vscode-notebook-cell:/c%3A/Users/michaelshih/Documents/Podcast_tmp/EP019/scripts/stereo2mono.ipynb#ch0000003?line=20'>21</a>\u001b[0m TRACK_OFFSET \u001b[39m=\u001b[39m \u001b[39m29.6\u001b[39m\n\u001b[1;32m---> <a href='vscode-notebook-cell:/c%3A/Users/michaelshih/Documents/Podcast_tmp/EP019/scripts/stereo2mono.ipynb#ch0000003?line=21'>22</a>\u001b[0m TRACK_LENGTH_MAX \u001b[39m=\u001b[39m np\u001b[39m.\u001b[39;49mamax(tracklengthlist)\n\u001b[0;32m     <a href='vscode-notebook-cell:/c%3A/Users/michaelshih/Documents/Podcast_tmp/EP019/scripts/stereo2mono.ipynb#ch0000003?line=22'>23</a>\u001b[0m MATERIAL_DIR \u001b[39m=\u001b[39m Path(\u001b[39m'\u001b[39m\u001b[39mZ:\u001b[39m\u001b[39m\\\u001b[39m\u001b[39msc2.shih\u001b[39m\u001b[39m\\\u001b[39m\u001b[39mDrive\u001b[39m\u001b[39m\\\u001b[39m\u001b[39mPodcast\u001b[39m\u001b[39m\\\u001b[39m\u001b[39mEdit\u001b[39m\u001b[39m\\\u001b[39m\u001b[39mmaterial\u001b[39m\u001b[39m'\u001b[39m)\n\u001b[0;32m     <a href='vscode-notebook-cell:/c%3A/Users/michaelshih/Documents/Podcast_tmp/EP019/scripts/stereo2mono.ipynb#ch0000003?line=23'>24</a>\u001b[0m OPMUSIC_PATH \u001b[39m=\u001b[39m MATERIAL_DIR\u001b[39m.\u001b[39mjoinpath(\u001b[39m'\u001b[39m\u001b[39mdirect_import\u001b[39m\u001b[39m'\u001b[39m, \u001b[39m'\u001b[39m\u001b[39mdirect_import_op.wav\u001b[39m\u001b[39m'\u001b[39m)\n",
      "File \u001b[1;32m<__array_function__ internals>:5\u001b[0m, in \u001b[0;36mamax\u001b[1;34m(*args, **kwargs)\u001b[0m\n",
      "File \u001b[1;32m~\\Anaconda3\\envs\\pyTrans\\lib\\site-packages\\numpy\\core\\fromnumeric.py:2733\u001b[0m, in \u001b[0;36mamax\u001b[1;34m(a, axis, out, keepdims, initial, where)\u001b[0m\n\u001b[0;32m   <a href='file:///c%3A/Users/michaelshih/Anaconda3/envs/pyTrans/lib/site-packages/numpy/core/fromnumeric.py?line=2616'>2617</a>\u001b[0m \u001b[39m@array_function_dispatch\u001b[39m(_amax_dispatcher)\n\u001b[0;32m   <a href='file:///c%3A/Users/michaelshih/Anaconda3/envs/pyTrans/lib/site-packages/numpy/core/fromnumeric.py?line=2617'>2618</a>\u001b[0m \u001b[39mdef\u001b[39;00m \u001b[39mamax\u001b[39m(a, axis\u001b[39m=\u001b[39m\u001b[39mNone\u001b[39;00m, out\u001b[39m=\u001b[39m\u001b[39mNone\u001b[39;00m, keepdims\u001b[39m=\u001b[39mnp\u001b[39m.\u001b[39m_NoValue, initial\u001b[39m=\u001b[39mnp\u001b[39m.\u001b[39m_NoValue,\n\u001b[0;32m   <a href='file:///c%3A/Users/michaelshih/Anaconda3/envs/pyTrans/lib/site-packages/numpy/core/fromnumeric.py?line=2618'>2619</a>\u001b[0m          where\u001b[39m=\u001b[39mnp\u001b[39m.\u001b[39m_NoValue):\n\u001b[0;32m   <a href='file:///c%3A/Users/michaelshih/Anaconda3/envs/pyTrans/lib/site-packages/numpy/core/fromnumeric.py?line=2619'>2620</a>\u001b[0m     \u001b[39m\"\"\"\u001b[39;00m\n\u001b[0;32m   <a href='file:///c%3A/Users/michaelshih/Anaconda3/envs/pyTrans/lib/site-packages/numpy/core/fromnumeric.py?line=2620'>2621</a>\u001b[0m \u001b[39m    Return the maximum of an array or maximum along an axis.\u001b[39;00m\n\u001b[0;32m   <a href='file:///c%3A/Users/michaelshih/Anaconda3/envs/pyTrans/lib/site-packages/numpy/core/fromnumeric.py?line=2621'>2622</a>\u001b[0m \n\u001b[1;32m   (...)\u001b[0m\n\u001b[0;32m   <a href='file:///c%3A/Users/michaelshih/Anaconda3/envs/pyTrans/lib/site-packages/numpy/core/fromnumeric.py?line=2730'>2731</a>\u001b[0m \u001b[39m    5\u001b[39;00m\n\u001b[0;32m   <a href='file:///c%3A/Users/michaelshih/Anaconda3/envs/pyTrans/lib/site-packages/numpy/core/fromnumeric.py?line=2731'>2732</a>\u001b[0m \u001b[39m    \"\"\"\u001b[39;00m\n\u001b[1;32m-> <a href='file:///c%3A/Users/michaelshih/Anaconda3/envs/pyTrans/lib/site-packages/numpy/core/fromnumeric.py?line=2732'>2733</a>\u001b[0m     \u001b[39mreturn\u001b[39;00m _wrapreduction(a, np\u001b[39m.\u001b[39;49mmaximum, \u001b[39m'\u001b[39;49m\u001b[39mmax\u001b[39;49m\u001b[39m'\u001b[39;49m, axis, \u001b[39mNone\u001b[39;49;00m, out,\n\u001b[0;32m   <a href='file:///c%3A/Users/michaelshih/Anaconda3/envs/pyTrans/lib/site-packages/numpy/core/fromnumeric.py?line=2733'>2734</a>\u001b[0m                           keepdims\u001b[39m=\u001b[39;49mkeepdims, initial\u001b[39m=\u001b[39;49minitial, where\u001b[39m=\u001b[39;49mwhere)\n",
      "File \u001b[1;32m~\\Anaconda3\\envs\\pyTrans\\lib\\site-packages\\numpy\\core\\fromnumeric.py:87\u001b[0m, in \u001b[0;36m_wrapreduction\u001b[1;34m(obj, ufunc, method, axis, dtype, out, **kwargs)\u001b[0m\n\u001b[0;32m     <a href='file:///c%3A/Users/michaelshih/Anaconda3/envs/pyTrans/lib/site-packages/numpy/core/fromnumeric.py?line=83'>84</a>\u001b[0m         \u001b[39melse\u001b[39;00m:\n\u001b[0;32m     <a href='file:///c%3A/Users/michaelshih/Anaconda3/envs/pyTrans/lib/site-packages/numpy/core/fromnumeric.py?line=84'>85</a>\u001b[0m             \u001b[39mreturn\u001b[39;00m reduction(axis\u001b[39m=\u001b[39maxis, out\u001b[39m=\u001b[39mout, \u001b[39m*\u001b[39m\u001b[39m*\u001b[39mpasskwargs)\n\u001b[1;32m---> <a href='file:///c%3A/Users/michaelshih/Anaconda3/envs/pyTrans/lib/site-packages/numpy/core/fromnumeric.py?line=86'>87</a>\u001b[0m \u001b[39mreturn\u001b[39;00m ufunc\u001b[39m.\u001b[39mreduce(obj, axis, dtype, out, \u001b[39m*\u001b[39m\u001b[39m*\u001b[39mpasskwargs)\n",
      "\u001b[1;31mValueError\u001b[0m: zero-size array to reduction operation maximum which has no identity"
     ]
    }
   ],
   "source": [
    "def getinfo2json():\n",
    "    send_command('GetInfo: Format=\"JSON\" Type=\"Tracks\"')\n",
    "    response = get_response_json()\n",
    "    result = json.loads(response)\n",
    "    return(result)\n",
    "\n",
    "trackinfo = getinfo2json()\n",
    "print(trackinfo)\n",
    "\n",
    "filename_noext = [re.sub('.wav', '', wavfile.name) for wavfile in wavfilelist]\n",
    "\n",
    "namelistorder = ['WWL', 'Aileen', 'Robin', 'Mike']\n",
    "tracknamelist = [trackinfo['name'] for trackinfo in trackinfo]\n",
    "tracklengthlist = [trackinfo['end'] - trackinfo['start'] for trackinfo in trackinfo]\n",
    "name_tag = 'Aileen'\n",
    "\n",
    "def importfiles(filepath):\n",
    "    do_command(f'Import2: Filename={filepath}')\n",
    "\n",
    "TRACK_HEIGHT = 80\n",
    "TRACK_OFFSET = 29.6\n",
    "MATERIAL_DIR = Path('Z:\\sc2.shih\\Drive\\Podcast\\Edit\\material')\n",
    "OPMUSIC_PATH = MATERIAL_DIR.joinpath('direct_import', 'direct_import_op.wav')\n",
    "ENDMUSIC_PATH = MATERIAL_DIR.joinpath('direct_import', 'direct_import_end.wav')\n",
    "ENDCREDIT_PATH = MATERIAL_DIR.joinpath('direct_import', 'direct_import_endcredit.wav')\n",
    "ENDCREDIT_OFFSET = 9.2\n",
    "\n",
    "for idx, name in enumerate(namelistorder):\n",
    "    track_name = f'{name_tag}_{name}'\n",
    "    if track_name not in tracknamelist:\n",
    "        print(f'import track: {track_name}')\n",
    "        importfiles(p_mono.joinpath(f'{track_name}.wav'))\n",
    "    do_command('SelectAll:')        \n",
    "    do_command(f'SelectTracks: Mode=\"Set\" Track=\"{idx}\" TrackCouint=\"1\"')\n",
    "    do_command('ZoomSel')\n",
    "    do_command(f'SetTrack: Height={str(TRACK_HEIGHT)}')\n",
    "    do_command(f'SetClip: At=\"0\" Start=\"{TRACK_OFFSET}\"')\n",
    "\n",
    "trackinfo = getinfo2json()\n",
    "tracknamelist = [trackinfo['name'] for trackinfo in getinfo2json()]\n",
    "TRACK_LENGTH_MAX = np.amax(tracklengthlist)\n",
    "\n",
    "if 'opmusic' not in tracknamelist:\n",
    "    do_command(f'Import2: Filename=\"{OPMUSIC_PATH}\"')\n",
    "    do_command(f'SelectTracks: Mode=\"Set\" Track=\"{len(tracknamelist)}\" TrackCouint=\"1\"')\n",
    "    do_command(f'SetTrack: Name=\"opmusic\" Height={int(TRACK_HEIGHT*0.6)}')\n",
    "\n",
    "trackinfo = getinfo2json()\n",
    "tracknamelist = [trackinfo['name'] for trackinfo in getinfo2json()]\n",
    "\n",
    "if 'endmusic' not in tracknamelist:\n",
    "    do_command(f'Import2: Filename=\"{ENDMUSIC_PATH}\"')\n",
    "    do_command(f'SelectTracks: Mode=\"Set\" Track=\"{len(tracknamelist)}\" TrackCouint=\"1\"')\n",
    "    do_command(f'SetTrack: Name=\"endmusic\" Height={int(TRACK_HEIGHT*0.6)}')\n",
    "    do_command(f'SetClip: At=\"0\" Start=\"{TRACK_OFFSET + TRACK_LENGTH_MAX}\"')\n",
    "\n",
    "trackinfo = getinfo2json()\n",
    "tracknamelist = [trackinfo['name'] for trackinfo in getinfo2json()]\n",
    "\n",
    "if 'endcredit' not in tracknamelist:\n",
    "    do_command(f'Import2: Filename=\"{ENDCREDIT_PATH}\"')\n",
    "    do_command(f'SelectTracks: Mode=\"Set\" Track=\"{len(tracknamelist)}\" TrackCouint=\"1\"')\n",
    "    do_command(f'SetTrack: Name=\"endcredit\" Height={int(TRACK_HEIGHT*0.6)}')\n",
    "    do_command(f'SetClip: At=\"0\" Start=\"{TRACK_OFFSET + TRACK_LENGTH_MAX + ENDCREDIT_OFFSET}\"')\n",
    "\n"
   ]
  },
  {
   "cell_type": "code",
   "execution_count": null,
   "metadata": {},
   "outputs": [],
   "source": []
  }
 ],
 "metadata": {
  "interpreter": {
   "hash": "4963abe7c305313ef06ceaa9af4fc228c2474d025405498682af345c703796f0"
  },
  "kernelspec": {
   "display_name": "Python 3.9.5 ('pyTrans')",
   "language": "python",
   "name": "python3"
  },
  "language_info": {
   "codemirror_mode": {
    "name": "ipython",
    "version": 3
   },
   "file_extension": ".py",
   "mimetype": "text/x-python",
   "name": "python",
   "nbconvert_exporter": "python",
   "pygments_lexer": "ipython3",
   "version": "3.9.12"
  },
  "orig_nbformat": 4
 },
 "nbformat": 4,
 "nbformat_minor": 2
}
