{
 "cells": [
  {
   "cell_type": "code",
   "execution_count": 4,
   "metadata": {},
   "outputs": [
    {
     "name": "stdout",
     "output_type": "stream",
     "text": [
      "The autoreload extension is already loaded. To reload it, use:\n",
      "  %reload_ext autoreload\n"
     ]
    }
   ],
   "source": [
    "%load_ext autoreload\n",
    "%autoreload 2\n",
    "import os\n",
    "import re\n",
    "import json\n",
    "from pathlib import Path\n",
    "import matplotlib.pyplot as plt\n",
    "import numpy as np\n",
    "from scipy.io.wavfile import read, write\n",
    "#from pipefunc.pipefunc import do_command, send_command, get_response, get_response_json"
   ]
  },
  {
   "cell_type": "code",
   "execution_count": 5,
   "metadata": {},
   "outputs": [
    {
     "name": "stdout",
     "output_type": "stream",
     "text": [
      "[WindowsPath('c:/Users/michaelshih/Documents/Podcast_tmp/EP019/raw/Aileen_Aileen.wav'), WindowsPath('c:/Users/michaelshih/Documents/Podcast_tmp/EP019/raw/Aileen_Mike.wav'), WindowsPath('c:/Users/michaelshih/Documents/Podcast_tmp/EP019/raw/Aileen_Robin.wav'), WindowsPath('c:/Users/michaelshih/Documents/Podcast_tmp/EP019/raw/Aileen_WWL.wav')]\n"
     ]
    }
   ],
   "source": [
    "p = Path(os.getcwd())\n",
    "p_raw = p.parents[0].joinpath('raw')\n",
    "p_mono = p.parents[0].joinpath('mono')\n",
    "p_mono.mkdir(exist_ok=True)\n",
    "wavfilelist = sorted(p_raw.glob('*.wav'))\n",
    "print(wavfilelist)\n",
    "op_monofilelist = [p_mono.joinpath(x.name) for x in wavfilelist]"
   ]
  },
  {
   "cell_type": "code",
   "execution_count": null,
   "metadata": {},
   "outputs": [],
   "source": [
    "if p_raw.joinpath('metadata.json').is_file():\n",
    "    with open(p_raw.joinpath('metadata.json'), 'r') as f:\n",
    "        metadata_dict = json.load(f)\n",
    "else:    \n",
    "    metadata_dict = {}\n",
    "    for wavfile in wavfilelist:\n",
    "        print(wavfile)\n",
    "        fs, data = read(wavfile)\n",
    "        print(fs)\n",
    "        print(data.shape)\n",
    "        metadata_dict[wavfile.name] = {'fs': fs, \n",
    "                                        'shape': data.shape,\n",
    "                                        }\n",
    "    with open(p_raw.joinpath('metadata.json'), 'w') as f:\n",
    "        json.dump(metadata_dict, f)\n",
    "\n",
    "print(metadata_dict)\n",
    "audiolength = []\n",
    "for wavfile, value in metadata_dict.items():\n",
    "    audiolength.append(value['shape'][0])\n",
    "print(audiolength)\n",
    "maxlength = np.amax(audiolength)\n",
    "\n",
    "for wavfile, op_monofile in zip(wavfilelist, op_monofilelist):\n",
    "    if not op_monofile.is_file():\n",
    "        fs, data = read(wavfile)\n",
    "        data_tmp = np.pad(data[:, 0], (0, maxlength - data.shape[0]), 'constant')\n",
    "        write(op_monofile, fs, data[:, 0])"
   ]
  }
 ],
 "metadata": {
  "interpreter": {
   "hash": "4963abe7c305313ef06ceaa9af4fc228c2474d025405498682af345c703796f0"
  },
  "kernelspec": {
   "display_name": "Python 3.9.12 ('pyTrans')",
   "language": "python",
   "name": "python3"
  },
  "language_info": {
   "codemirror_mode": {
    "name": "ipython",
    "version": 3
   },
   "file_extension": ".py",
   "mimetype": "text/x-python",
   "name": "python",
   "nbconvert_exporter": "python",
   "pygments_lexer": "ipython3",
   "version": "3.9.12"
  },
  "orig_nbformat": 4
 },
 "nbformat": 4,
 "nbformat_minor": 2
}
